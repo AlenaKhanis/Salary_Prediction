{
 "cells": [
  {
   "cell_type": "code",
   "execution_count": null,
   "id": "5b755600-11c6-44bd-bf8a-fee6dff79088",
   "metadata": {},
   "outputs": [],
   "source": []
  }
 ],
 "metadata": {
  "kernelspec": {
   "display_name": "",
   "name": ""
  },
  "language_info": {
   "name": ""
  }
 },
 "nbformat": 4,
 "nbformat_minor": 5
}
